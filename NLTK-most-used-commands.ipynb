{
 "cells": [
  {
   "cell_type": "code",
   "execution_count": null,
   "metadata": {},
   "outputs": [],
   "source": [
    "import nltk\n",
    "# Uncomment the download dialouge in case you don't have the corpora\n",
    "#nltk.download()\n",
    "#This says \"from NLTK's book module, load all items.\" The book module contains all the data you will need as you read \n",
    "#this chapter.\n",
    "from nltk.book import *"
   ]
  },
  {
   "cell_type": "code",
   "execution_count": null,
   "metadata": {
    "scrolled": true
   },
   "outputs": [],
   "source": [
    "#Tokenizing\n",
    "###########################################\n",
    "\n",
    "corpus=text1\n",
    "print('Corpus name: \"{}\"'.format(corpus.name))\n",
    "print('Corpus lenght: {} words'.format(len(corpus)))\n",
    "\n",
    "tokens_number=10\n",
    "print('First {} tokens of the corpus:'.format(tokens_number))\n",
    "\n",
    "tokens=corpus[0:tokens_number]\n",
    "print(tokens)\n",
    "#print(\" \".join(tokens))"
   ]
  },
  {
   "cell_type": "code",
   "execution_count": null,
   "metadata": {},
   "outputs": [],
   "source": [
    "#Concordance\n",
    "###########################################\n",
    "\n",
    "#2 concordance of the word \"dogs\":\n",
    "print('2 concordance of the word \"dogs\":')\n",
    "corpus.concordance('dogs',40,lines=2)\n",
    "#text1.concordance('sea', lines=all) #show all results\n",
    "\n",
    "#Similarity - find words that are in common context\n",
    "###########################################\n",
    "print()\n",
    "print('\"dogs\" similar contexs:')\n",
    "corpus.similar('dogs')"
   ]
  },
  {
   "cell_type": "code",
   "execution_count": null,
   "metadata": {
    "scrolled": true
   },
   "outputs": [],
   "source": []
  },
  {
   "cell_type": "code",
   "execution_count": null,
   "metadata": {
    "collapsed": true
   },
   "outputs": [],
   "source": []
  }
 ],
 "metadata": {
  "kernelspec": {
   "display_name": "Python 3",
   "language": "python",
   "name": "python3"
  },
  "language_info": {
   "codemirror_mode": {
    "name": "ipython",
    "version": 3
   },
   "file_extension": ".py",
   "mimetype": "text/x-python",
   "name": "python",
   "nbconvert_exporter": "python",
   "pygments_lexer": "ipython3",
   "version": "3.6.2"
  }
 },
 "nbformat": 4,
 "nbformat_minor": 2
}
