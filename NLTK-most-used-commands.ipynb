{
 "cells": [
  {
   "cell_type": "code",
   "execution_count": 41,
   "metadata": {},
   "outputs": [
    {
     "name": "stdout",
     "output_type": "stream",
     "text": [
      "file ids of the gutengerg corpus : ['austen-emma.txt', 'austen-persuasion.txt', 'austen-sense.txt', 'bible-kjv.txt', 'blake-poems.txt', 'bryant-stories.txt', 'burgess-busterbrown.txt', 'carroll-alice.txt', 'chesterton-ball.txt', 'chesterton-brown.txt', 'chesterton-thursday.txt', 'edgeworth-parents.txt', 'melville-moby_dick.txt', 'milton-paradise.txt', 'shakespeare-caesar.txt', 'shakespeare-hamlet.txt', 'shakespeare-macbeth.txt', 'whitman-leaves.txt']\n",
      "Corpus name: \"austen-emma.txt\"\n",
      "Token number 173424:  flower\n",
      "Index of the token \"flower\" 173424\n",
      "Corpus lenght: 260819 tokens\n",
      "First 10 tokens of the corpus:\n",
      "['[', 'Moby', 'Dick', 'by', 'Herman', 'Melville', '1851', ']', 'ETYMOLOGY', '.']\n"
     ]
    }
   ],
   "source": [
    "import nltk\n",
    "# Uncomment the download dialouge in case you don't have the corpora\n",
    "#nltk.download()\n",
    "#This says \"from NLTK's book module, load all items.\" The book module contains all the data you will need as you read \n",
    "#this chapter.\n",
    "from nltk.book import *\n",
    "from nltk.corpus import gutenberg\n",
    "\n",
    "corpus=text1\n",
    "\n",
    "#Loading\n",
    "###########################################\n",
    "fileids=gutenberg.fileids()\n",
    "print('file ids of the gutengerg corpus :', fileids)\n",
    "print('Corpus name: \"{}\"'.format(corpus_name))\n",
    "corpus_name=fileids[0]\n",
    "corpus_text=gutenberg.words('austen-emma.txt')\n",
    "\n",
    "#Accesing\n",
    "###########################################\n",
    "print('Token number 173424: ', corpus[173424])\n",
    "print('Index of the token \"flower\"', corpus.index('flower'))\n",
    "\n",
    "#Tokenizing\n",
    "###########################################\n",
    "\n",
    "\n",
    "print('Corpus lenght: {} tokens'.format(len(corpus)))\n",
    "\n",
    "tokens_number=10\n",
    "print('First {} tokens of the corpus:'.format(tokens_number))\n",
    "\n",
    "tokens=corpus[0:tokens_number]\n",
    "print(tokens)\n",
    "#print(\" \".join(tokens))"
   ]
  },
  {
   "cell_type": "code",
   "execution_count": 26,
   "metadata": {},
   "outputs": [
    {
     "name": "stdout",
     "output_type": "stream",
     "text": [
      "2 concordance of the word \"dogs\":\n",
      "Displaying 2 of 8 matches:\n",
      "me , and secretly dogs me , and influenc\n",
      "a sledge drawn by dogs as Ledyard did , \n",
      "\n",
      "\"dogs\" similar contexs:\n",
      "and it name whale be that earth say think boat rabelais back ship head\n",
      "masts arm wharves sailors craft words\n",
      "\n",
      "\"come\" and \"go\" similar contexs:\n",
      "i_to to_on to_to and_to not_to to_round\n"
     ]
    }
   ],
   "source": [
    "#Concordance\n",
    "###########################################\n",
    "\n",
    "#2 concordances of the word \"dogs\":\n",
    "print('2 concordance of the word \"dogs\":')\n",
    "corpus.concordance('dogs',40,lines=2)\n",
    "#text1.concordance('sea', lines=all) #show all results\n",
    "\n",
    "#Similarity - find words that are in common context\n",
    "###########################################\n",
    "print()\n",
    "print('\"dogs\" similar contexs:')\n",
    "corpus.similar('dogs')\n",
    "\n",
    "#Common context\n",
    "###########################################\n",
    "print()\n",
    "print('\"come\" and \"go\" similar contexs:')\n",
    "text1.common_contexts(['come','go'])"
   ]
  },
  {
   "cell_type": "code",
   "execution_count": 28,
   "metadata": {
    "scrolled": true
   },
   "outputs": [
    {
     "name": "stdout",
     "output_type": "stream",
     "text": [
      "Characters number in this string is:  260819\n",
      "Tokens number in text1 is:  260819\n",
      "Unique tokens number in text1 is:  19317\n",
      "Occurences number of the word \"heaven\" in text1 is:  40\n",
      "Type of the variable \"fd\" : <class 'nltk.probability.FreqDist'>\n",
      "Frequency of the word \"you\" in text1 is: 841\n"
     ]
    }
   ],
   "source": [
    "#Counting\n",
    "###########################################\n",
    "print('Characters number in this string is: ', len(text1))\n",
    "print('Tokens number in text1 is: ',len(text1))\n",
    "\n",
    "#notice that set return a list of unique tokens\n",
    "print('Unique tokens number in text1 is: ',len(set(text1))) #notice that set return a list of unique tokens\n",
    "print('Occurences number of the word \"heaven\" in text1 is: ',text1.count('heaven'))\n",
    "\n",
    "num_chars = len(gutenberg.raw('austen-emma.txt'))\n",
    "num_words = len(gutenberg.words('austen-emma.txt'))\n",
    "num_sents = len(gutenberg.sents('austen-emma.txt'))\n",
    "\n",
    "\n",
    "fd = nltk.FreqDist(text1) # creates a new data object that contains information about word frequency\n",
    "print('Type of the variable \"fd\" :', type(fd))\n",
    "print('Frequency of the word \"you\" in text1 is:', fd['you'])\n",
    "#fd.keys(), fd.values(), fd.items()\n"
   ]
  },
  {
   "cell_type": "code",
   "execution_count": null,
   "metadata": {
    "collapsed": true
   },
   "outputs": [],
   "source": []
  }
 ],
 "metadata": {
  "kernelspec": {
   "display_name": "Python 3",
   "language": "python",
   "name": "python3"
  },
  "language_info": {
   "codemirror_mode": {
    "name": "ipython",
    "version": 3
   },
   "file_extension": ".py",
   "mimetype": "text/x-python",
   "name": "python",
   "nbconvert_exporter": "python",
   "pygments_lexer": "ipython3",
   "version": "3.6.2"
  }
 },
 "nbformat": 4,
 "nbformat_minor": 2
}
